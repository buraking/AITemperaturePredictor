{
 "cells": [
  {
   "cell_type": "code",
   "execution_count": 1,
   "metadata": {},
   "outputs": [
    {
     "name": "stdout",
     "output_type": "stream",
     "text": [
      "Overwriting mylinear.py\n"
     ]
    }
   ],
   "source": [
    "%%writefile mylinear.py\n",
    "#This is the file that we will create. It contains the necessary code to display our desired results.\n",
    "# import class Flask, apscheduler and other necessary libraries.\n",
    "from flask import Flask, render_template, request, redirect, url_for\n",
    "import numpy as np\n",
    "from sklearn import datasets, linear_model, preprocessing\n",
    "from apscheduler.schedulers.background import BackgroundScheduler\n",
    "import pandas as pd\n",
    "import sys\n",
    "\n",
    "# Initialization of the different components that we will need.\n",
    "data = None\n",
    "regressor = None\n",
    "\n",
    "def create_model():\n",
    "    global regressor\n",
    "    global data\n",
    "\n",
    "    \n",
    "    #Reset Values\n",
    "    data = None\n",
    "    regressor = None\n",
    "    data_from_set = pd.read_csv('pmdata/BeijingPM.csv')\n",
    "    \n",
    "    data = data_from_set\n",
    "    np.nan_to_num(data)\n",
    "    # dataset = dataset[isnan(dataset)]\n",
    "    data[data.notnull()]\n",
    "    data = data.dropna()\n",
    "    X = data[['year', 'month','hour', 'DEWP', 'HUMI']]\n",
    "    y = data[['TEMP']]\n",
    "    \n",
    "    # Create linear regressor object\n",
    "    regressor = linear_model.LinearRegression()\n",
    "    \n",
    "    # Train the model using the training sets\n",
    "    regressor.fit(X, y)\n",
    "    # return get_future_pred()\n",
    "    \n",
    "# Once the dataset has been applied to the model, we will return the prediction for today.\n",
    "def get_future_pred(year, month, hour, DEWP, HUMI):\n",
    "    global data\n",
    "    print(\"hej Christian\", file=sys.stderr)\n",
    "    print(type(year), file=sys.stderr)\n",
    "    year = int(year)\n",
    "    month = int(month)\n",
    "    hour = int(hour)\n",
    "    DEWP = float(DEWP)\n",
    "    HUMI = float(HUMI)\n",
    "    print(type(year), file=sys.stderr)\n",
    "    \n",
    "    y_future = regressor.predict([[year, month, hour, DEWP, HUMI]])\n",
    "    r2_score = regressor.score(data[['year', 'month', 'hour', 'DEWP', 'HUMI']], data[['TEMP']])\n",
    "    \n",
    "    return y_future[0][0], data.shape[0], r2_score\n",
    "\n",
    "# create an instance (our app)\n",
    "app = Flask(__name__)\n",
    "\n",
    "# Routes for our app.\n",
    "@app.route('/', methods=['GET'])\n",
    "def index():\n",
    "    return render_template('index.html', form=None)\n",
    "\n",
    "@app.route('/prediction', methods=['POST'])\n",
    "def prediction():\n",
    "    year = request.form['year']\n",
    "    month = request.form['month']\n",
    "    hour = request.form['hour']\n",
    "    DEWP = request.form['DEWP']\n",
    "    HUMI = request.form['HUMI']\n",
    "    create_model()\n",
    "    y_future, dataAmount, r2_score = get_future_pred(year, month, hour, DEWP, HUMI)\n",
    "    return render_template('result.html', year=year, \n",
    "                           month=month, \n",
    "                           hour=hour, \n",
    "                           DEWP=DEWP, \n",
    "                           HUMI=HUMI, \n",
    "                           y_future=y_future, \n",
    "                           dataAmount=dataAmount, \n",
    "                           r2_score=r2_score)\n",
    "\n",
    "#@app.route('/result/<symbol>&<y_today>&<dataAmount>&<r2_score>', methods=['GET', 'POST'])\n",
    "#def result_new(symbol, y_today, dataAmount, r2_score):\n",
    "#    app.logger.info('result: ' + cur_symbol)\n",
    "#    return render_template('result.html',symbol=symbol, y_today=y_today, dataAmount=dataAmount, r2_score=r2_score)\n",
    "\n",
    "@app.route('/result', methods=['POST'])\n",
    "def result():\n",
    "    global cur_symbol\n",
    "    y_future,dataAmount, r2_score = get_future_pred()\n",
    "    return render_template('result.html', y_future=y_future, dataAmount=dataAmount, r2_score=r2_score)\n",
    "    \n",
    "if __name__ == '__main__':\n",
    "    app.run(debug=True)"
   ]
  },
  {
   "cell_type": "code",
   "execution_count": 2,
   "metadata": {},
   "outputs": [
    {
     "data": {
      "text/plain": [
       "0"
      ]
     },
     "execution_count": 2,
     "metadata": {},
     "output_type": "execute_result"
    }
   ],
   "source": [
    "import subprocess as sub\n",
    "sub.call('start /wait python mylinear.py', shell=True)"
   ]
  },
  {
   "cell_type": "code",
   "execution_count": null,
   "metadata": {},
   "outputs": [],
   "source": [
    "!python mylinear.py"
   ]
  },
  {
   "cell_type": "code",
   "execution_count": null,
   "metadata": {},
   "outputs": [],
   "source": []
  },
  {
   "cell_type": "code",
   "execution_count": null,
   "metadata": {},
   "outputs": [],
   "source": []
  },
  {
   "cell_type": "code",
   "execution_count": null,
   "metadata": {},
   "outputs": [],
   "source": []
  }
 ],
 "metadata": {
  "kernelspec": {
   "display_name": "Python 3",
   "language": "python",
   "name": "python3"
  },
  "language_info": {
   "codemirror_mode": {
    "name": "ipython",
    "version": 3
   },
   "file_extension": ".py",
   "mimetype": "text/x-python",
   "name": "python",
   "nbconvert_exporter": "python",
   "pygments_lexer": "ipython3",
   "version": "3.6.5"
  }
 },
 "nbformat": 4,
 "nbformat_minor": 2
}
