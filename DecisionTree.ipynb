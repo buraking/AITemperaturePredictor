{
 "cells": [
  {
   "cell_type": "code",
   "execution_count": 1,
   "metadata": {},
   "outputs": [],
   "source": [
    "# pandas for data structures and operations for manipulating numerical tables and time series\n",
    "%%writefile mywebapp.py\n",
    "#This is the file that we will create. It contains the necessary code to display our desired results.\n",
    "# import class Flask, apscheduler and other necessary libraries.\n",
    "from flask import Flask, render_template, request, redirect, url_for\n",
    "import pandas as pd\n",
    "from pandas.plotting import scatter_matrix\n",
    "\n",
    "# matplotlib.pyplot fordata plots\n",
    "import matplotlib.pyplot as plt\n",
    "\n",
    "# sklearn for machine learning methods\n",
    "from sklearn import tree\n",
    "from sklearn import model_selection\n",
    "from sklearn.metrics import classification_report\n",
    "from sklearn.metrics import confusion_matrix\n",
    "from sklearn.metrics import accuracy_score\n",
    "from sklearn.tree import DecisionTreeRegressor\n",
    "\n",
    "# from utilities import visualize_classifier\n",
    "\n",
    "import numpy as np"
   ]
  },
  {
   "cell_type": "code",
   "execution_count": 2,
   "metadata": {},
   "outputs": [],
   "source": [
    "dataset = pd.read_csv('pmdata/BeijingPM.csv')"
   ]
  },
  {
   "cell_type": "code",
   "execution_count": 3,
   "metadata": {},
   "outputs": [
    {
     "data": {
      "text/plain": [
       "(52584, 18)"
      ]
     },
     "execution_count": 3,
     "metadata": {},
     "output_type": "execute_result"
    }
   ],
   "source": [
    "dataset.shape"
   ]
  },
  {
   "cell_type": "code",
   "execution_count": 4,
   "metadata": {},
   "outputs": [],
   "source": [
    "# Clean the data\n",
    "np.nan_to_num(dataset)\n",
    "# dataset = dataset[isnan(dataset)]\n",
    "dataset[dataset.notnull()]\n",
    "dataset = dataset.dropna()"
   ]
  },
  {
   "cell_type": "code",
   "execution_count": 5,
   "metadata": {},
   "outputs": [
    {
     "data": {
      "text/html": [
       "<div>\n",
       "<style scoped>\n",
       "    .dataframe tbody tr th:only-of-type {\n",
       "        vertical-align: middle;\n",
       "    }\n",
       "\n",
       "    .dataframe tbody tr th {\n",
       "        vertical-align: top;\n",
       "    }\n",
       "\n",
       "    .dataframe thead th {\n",
       "        text-align: right;\n",
       "    }\n",
       "</style>\n",
       "<table border=\"1\" class=\"dataframe\">\n",
       "  <thead>\n",
       "    <tr style=\"text-align: right;\">\n",
       "      <th></th>\n",
       "      <th>No</th>\n",
       "      <th>year</th>\n",
       "      <th>month</th>\n",
       "      <th>day</th>\n",
       "      <th>hour</th>\n",
       "      <th>season</th>\n",
       "      <th>PM_Dongsi</th>\n",
       "      <th>PM_Dongsihuan</th>\n",
       "      <th>PM_Nongzhanguan</th>\n",
       "      <th>PM_US Post</th>\n",
       "      <th>DEWP</th>\n",
       "      <th>HUMI</th>\n",
       "      <th>PRES</th>\n",
       "      <th>TEMP</th>\n",
       "      <th>cbwd</th>\n",
       "      <th>Iws</th>\n",
       "      <th>precipitation</th>\n",
       "      <th>Iprec</th>\n",
       "    </tr>\n",
       "  </thead>\n",
       "  <tbody>\n",
       "    <tr>\n",
       "      <th>27824</th>\n",
       "      <td>27825</td>\n",
       "      <td>2013</td>\n",
       "      <td>3</td>\n",
       "      <td>5</td>\n",
       "      <td>8</td>\n",
       "      <td>1</td>\n",
       "      <td>117.0</td>\n",
       "      <td>166.0</td>\n",
       "      <td>140.0</td>\n",
       "      <td>150.0</td>\n",
       "      <td>-6.0</td>\n",
       "      <td>59.0</td>\n",
       "      <td>1019.0</td>\n",
       "      <td>1.0</td>\n",
       "      <td>cv</td>\n",
       "      <td>0.89</td>\n",
       "      <td>0.0</td>\n",
       "      <td>0.0</td>\n",
       "    </tr>\n",
       "    <tr>\n",
       "      <th>27825</th>\n",
       "      <td>27826</td>\n",
       "      <td>2013</td>\n",
       "      <td>3</td>\n",
       "      <td>5</td>\n",
       "      <td>9</td>\n",
       "      <td>1</td>\n",
       "      <td>131.0</td>\n",
       "      <td>165.0</td>\n",
       "      <td>152.0</td>\n",
       "      <td>163.0</td>\n",
       "      <td>-8.0</td>\n",
       "      <td>38.0</td>\n",
       "      <td>1019.0</td>\n",
       "      <td>5.0</td>\n",
       "      <td>cv</td>\n",
       "      <td>1.78</td>\n",
       "      <td>0.0</td>\n",
       "      <td>0.0</td>\n",
       "    </tr>\n",
       "    <tr>\n",
       "      <th>27826</th>\n",
       "      <td>27827</td>\n",
       "      <td>2013</td>\n",
       "      <td>3</td>\n",
       "      <td>5</td>\n",
       "      <td>10</td>\n",
       "      <td>1</td>\n",
       "      <td>141.0</td>\n",
       "      <td>173.0</td>\n",
       "      <td>128.0</td>\n",
       "      <td>172.0</td>\n",
       "      <td>-8.0</td>\n",
       "      <td>31.0</td>\n",
       "      <td>1018.0</td>\n",
       "      <td>8.0</td>\n",
       "      <td>cv</td>\n",
       "      <td>2.67</td>\n",
       "      <td>0.0</td>\n",
       "      <td>0.0</td>\n",
       "    </tr>\n",
       "    <tr>\n",
       "      <th>27828</th>\n",
       "      <td>27829</td>\n",
       "      <td>2013</td>\n",
       "      <td>3</td>\n",
       "      <td>5</td>\n",
       "      <td>12</td>\n",
       "      <td>1</td>\n",
       "      <td>169.0</td>\n",
       "      <td>182.0</td>\n",
       "      <td>3.0</td>\n",
       "      <td>181.0</td>\n",
       "      <td>-9.0</td>\n",
       "      <td>23.0</td>\n",
       "      <td>1017.0</td>\n",
       "      <td>11.0</td>\n",
       "      <td>cv</td>\n",
       "      <td>4.45</td>\n",
       "      <td>0.0</td>\n",
       "      <td>0.0</td>\n",
       "    </tr>\n",
       "    <tr>\n",
       "      <th>27829</th>\n",
       "      <td>27830</td>\n",
       "      <td>2013</td>\n",
       "      <td>3</td>\n",
       "      <td>5</td>\n",
       "      <td>13</td>\n",
       "      <td>1</td>\n",
       "      <td>169.0</td>\n",
       "      <td>169.0</td>\n",
       "      <td>3.0</td>\n",
       "      <td>187.0</td>\n",
       "      <td>-9.0</td>\n",
       "      <td>22.0</td>\n",
       "      <td>1015.0</td>\n",
       "      <td>12.0</td>\n",
       "      <td>cv</td>\n",
       "      <td>5.34</td>\n",
       "      <td>0.0</td>\n",
       "      <td>0.0</td>\n",
       "    </tr>\n",
       "  </tbody>\n",
       "</table>\n",
       "</div>"
      ],
      "text/plain": [
       "          No  year  month  day  hour  season  PM_Dongsi  PM_Dongsihuan  \\\n",
       "27824  27825  2013      3    5     8       1      117.0          166.0   \n",
       "27825  27826  2013      3    5     9       1      131.0          165.0   \n",
       "27826  27827  2013      3    5    10       1      141.0          173.0   \n",
       "27828  27829  2013      3    5    12       1      169.0          182.0   \n",
       "27829  27830  2013      3    5    13       1      169.0          169.0   \n",
       "\n",
       "       PM_Nongzhanguan  PM_US Post  DEWP  HUMI    PRES  TEMP cbwd   Iws  \\\n",
       "27824            140.0       150.0  -6.0  59.0  1019.0   1.0   cv  0.89   \n",
       "27825            152.0       163.0  -8.0  38.0  1019.0   5.0   cv  1.78   \n",
       "27826            128.0       172.0  -8.0  31.0  1018.0   8.0   cv  2.67   \n",
       "27828              3.0       181.0  -9.0  23.0  1017.0  11.0   cv  4.45   \n",
       "27829              3.0       187.0  -9.0  22.0  1015.0  12.0   cv  5.34   \n",
       "\n",
       "       precipitation  Iprec  \n",
       "27824            0.0    0.0  \n",
       "27825            0.0    0.0  \n",
       "27826            0.0    0.0  \n",
       "27828            0.0    0.0  \n",
       "27829            0.0    0.0  "
      ]
     },
     "execution_count": 5,
     "metadata": {},
     "output_type": "execute_result"
    }
   ],
   "source": [
    "dataset.head(5)"
   ]
  },
  {
   "cell_type": "code",
   "execution_count": 6,
   "metadata": {},
   "outputs": [
    {
     "name": "stdout",
     "output_type": "stream",
     "text": [
      "                 No          year         month           day          hour  \\\n",
      "count  19062.000000  19062.000000  19062.000000  19062.000000  19062.000000   \n",
      "mean   38690.029693   2013.925244      6.402476     15.419736     11.476026   \n",
      "std     6327.149539      0.761684      3.316618      8.723040      6.955963   \n",
      "min    27825.000000   2013.000000      1.000000      1.000000      0.000000   \n",
      "25%    33371.250000   2013.000000      4.000000      8.000000      5.000000   \n",
      "50%    38606.500000   2014.000000      6.000000     15.000000     11.000000   \n",
      "75%    43937.750000   2015.000000      9.000000     23.000000     18.000000   \n",
      "max    52583.000000   2015.000000     12.000000     31.000000     23.000000   \n",
      "\n",
      "             season     PM_Dongsi  PM_Dongsihuan  PM_Nongzhanguan  \\\n",
      "count  19062.000000  19062.000000   19062.000000     19062.000000   \n",
      "mean       2.347865     86.627321      92.264033        85.659532   \n",
      "std        1.122671     82.953394      87.706631        83.510634   \n",
      "min        1.000000      3.000000       3.000000         3.000000   \n",
      "25%        1.000000     25.000000      28.000000        25.000000   \n",
      "50%        2.000000     64.000000      68.000000        62.000000   \n",
      "75%        3.000000    121.000000     128.000000       117.000000   \n",
      "max        4.000000    737.000000     672.000000       844.000000   \n",
      "\n",
      "         PM_US Post          DEWP          HUMI          PRES          TEMP  \\\n",
      "count  19062.000000  19062.000000  19062.000000  19062.000000  19062.000000   \n",
      "mean      90.099675      2.361924     51.362344   1015.351957     14.062900   \n",
      "std       86.151636     14.266730     25.520666     10.214528     11.527468   \n",
      "min        2.000000    -40.000000      2.000000    991.000000    -12.000000   \n",
      "25%       27.000000    -10.000000     29.000000   1007.000000      4.000000   \n",
      "50%       66.000000      3.000000     52.000000   1015.000000     15.000000   \n",
      "75%      122.000000     16.000000     73.000000   1023.000000     24.000000   \n",
      "max      722.000000     26.000000    100.000000   1041.000000     40.000000   \n",
      "\n",
      "                Iws  precipitation         Iprec  \n",
      "count  19062.000000   19062.000000  19062.000000  \n",
      "mean      21.019979       0.051642      0.215764  \n",
      "std       46.390482       0.634109      2.149536  \n",
      "min        0.450000       0.000000      0.000000  \n",
      "25%        1.790000       0.000000      0.000000  \n",
      "50%        4.920000       0.000000      0.000000  \n",
      "75%       19.670000       0.000000      0.000000  \n",
      "max      490.380000      30.400000     51.100000  \n"
     ]
    }
   ],
   "source": [
    "print(dataset.describe())"
   ]
  },
  {
   "cell_type": "code",
   "execution_count": 7,
   "metadata": {},
   "outputs": [],
   "source": [
    "# Draw box-whisker plots\n",
    "# dataset.plot(kind='box', subplots=True, layout=(3,5), sharex=False, sharey=False)\n",
    "# plt.show()"
   ]
  },
  {
   "cell_type": "code",
   "execution_count": 8,
   "metadata": {},
   "outputs": [
    {
     "data": {
      "image/png": "[encoded data removed]",
      "text/plain": [
       "<Figure size 432x288 with 20 Axes>"
      ]
     },
     "metadata": {},
     "output_type": "display_data"
    }
   ],
   "source": [
    "# Draw histograms\n",
    "dataset.hist()\n",
    "plt.show()"
   ]
  },
  {
   "cell_type": "code",
   "execution_count": 9,
   "metadata": {},
   "outputs": [
    {
     "data": {
      "text/plain": [
       "PRES              -0.821049\n",
       "season            -0.530078\n",
       "PM_US Post        -0.210023\n",
       "PM_Nongzhanguan   -0.182110\n",
       "PM_Dongsihuan     -0.175545\n",
       "Iws               -0.138815\n",
       "PM_Dongsi         -0.129857\n",
       "year              -0.063512\n",
       "No                -0.024631\n",
       "day                0.025575\n",
       "precipitation      0.042680\n",
       "Iprec              0.043737\n",
       "HUMI               0.102901\n",
       "month              0.111249\n",
       "hour               0.173795\n",
       "DEWP               0.798850\n",
       "TEMP               1.000000\n",
       "Name: TEMP, dtype: float64"
      ]
     },
     "execution_count": 9,
     "metadata": {},
     "output_type": "execute_result"
    }
   ],
   "source": [
    "dataset.corr()['TEMP'].sort_values()"
   ]
  },
  {
   "cell_type": "code",
   "execution_count": 10,
   "metadata": {},
   "outputs": [],
   "source": [
    "#seperating the predicting column from the whole dataset \n",
    "X = dataset[['year','month','hour', 'DEWP', 'HUMI']]\n",
    "X = X[:-1]\n",
    "y = dataset[['TEMP']]\n",
    "y = y[:-1]"
   ]
  },
  {
   "cell_type": "code",
   "execution_count": 11,
   "metadata": {},
   "outputs": [],
   "source": [
    "# Split into train and test\n",
    "num_training = int(0.8 * len(X))\n",
    "num_test = len(X) - num_training\n",
    "\n",
    "# Training data\n",
    "X_train, y_train = X[:num_training], y[:num_training]\n",
    "\n",
    "# Test data\n",
    "X_test, y_test = X[num_training:], y[num_training:]"
   ]
  },
  {
   "cell_type": "code",
   "execution_count": 12,
   "metadata": {},
   "outputs": [
    {
     "data": {
      "text/plain": [
       "DecisionTreeRegressor(criterion='mse', max_depth=6, max_features=None,\n",
       "           max_leaf_nodes=None, min_impurity_decrease=0.0,\n",
       "           min_impurity_split=None, min_samples_leaf=1,\n",
       "           min_samples_split=2, min_weight_fraction_leaf=0.0,\n",
       "           presort=False, random_state=None, splitter='best')"
      ]
     },
     "execution_count": 12,
     "metadata": {},
     "output_type": "execute_result"
    }
   ],
   "source": [
    "#Create Forest\n",
    "regr_1 = DecisionTreeRegressor(max_depth=2)\n",
    "regr_2 = DecisionTreeRegressor(max_depth=3)\n",
    "regr_3 = DecisionTreeRegressor(max_depth=5)\n",
    "regr_4 = DecisionTreeRegressor(max_depth=6)\n",
    "regr_1.fit(X_train, y_train)\n",
    "regr_2.fit(X_train, y_train)\n",
    "regr_3.fit(X_train, y_train)\n",
    "regr_4.fit(X_train, y_train)"
   ]
  },
  {
   "cell_type": "code",
   "execution_count": 13,
   "metadata": {},
   "outputs": [],
   "source": [
    "# Predict the output\n",
    "y_1 = regr_1.predict(X_test)\n",
    "y_2 = regr_2.predict(X_test)\n",
    "y_3 = regr_3.predict(X_test)\n",
    "y_4 = regr_4.predict(X_test)"
   ]
  },
  {
   "cell_type": "code",
   "execution_count": 15,
   "metadata": {},
   "outputs": [
    {
     "name": "stdout",
     "output_type": "stream",
     "text": [
      "Decision Tree regressor performance:\n",
      "0.6113651535619793\n",
      "0.7877843247711069\n",
      "0.9300428925832442\n",
      "0.9300428925832442\n"
     ]
    }
   ],
   "source": [
    "# Compute performance metrics\n",
    "print(\"Decision Tree regressor performance:\")\n",
    "print (regr_1.score(X_test, y_test))\n",
    "print (regr_2.score(X_test, y_test))\n",
    "print (regr_3.score(X_test, y_test))\n",
    "print (regr_3.score(X_test, y_test))"
   ]
  },
  {
   "cell_type": "code",
   "execution_count": 17,
   "metadata": {},
   "outputs": [
    {
     "name": "stdout",
     "output_type": "stream",
     "text": [
      "Temperature from first prediction:  [25.66034985]\n",
      "Temperature from second prediction:  [27.80115274]\n",
      "Temperature from third prediction:  [28.13300971]\n",
      "Temperature from fourth prediction:  [30.45738636]\n"
     ]
    }
   ],
   "source": [
    "y_test_pred_my1 = regr_1.predict([[2016, 11, 6, 21, 54]])\n",
    "y_test_pred_my2 = regr_2.predict([[2016, 11, 6, 21, 54]])\n",
    "y_test_pred_my3 = regr_3.predict([[2016, 11, 6, 21, 54]])\n",
    "y_test_pred_my4 = regr_4.predict([[2016, 11, 6, 21, 54]])\n",
    "print(\"Temperature from first prediction: \", y_test_pred_my1)\n",
    "print(\"Temperature from second prediction: \", y_test_pred_my2)\n",
    "print(\"Temperature from third prediction: \", y_test_pred_my3)\n",
    "print(\"Temperature from fourth prediction: \", y_test_pred_my4)"
   ]
  },
  {
   "cell_type": "code",
   "execution_count": null,
   "metadata": {},
   "outputs": [],
   "source": []
  }
 ],
 "metadata": {
  "kernelspec": {
   "display_name": "Python 3",
   "language": "python",
   "name": "python3"
  },
  "language_info": {
   "codemirror_mode": {
    "name": "ipython",
    "version": 3
   },
   "file_extension": ".py",
   "mimetype": "text/x-python",
   "name": "python",
   "nbconvert_exporter": "python",
   "pygments_lexer": "ipython3",
   "version": "3.6.5"
  }
 },
 "nbformat": 4,
 "nbformat_minor": 2
}
